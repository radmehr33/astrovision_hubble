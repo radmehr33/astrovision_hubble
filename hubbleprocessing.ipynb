{
  "nbformat": 4,
  "nbformat_minor": 0,
  "metadata": {
    "colab": {
      "provenance": [],
      "authorship_tag": "ABX9TyMtkvOEfX1a/vLDK7PMs8nZ",
      "include_colab_link": true
    },
    "kernelspec": {
      "name": "python3",
      "display_name": "Python 3"
    },
    "language_info": {
      "name": "python"
    }
  },
  "cells": [
    {
      "cell_type": "markdown",
      "metadata": {
        "id": "view-in-github",
        "colab_type": "text"
      },
      "source": [
        "<a href=\"https://colab.research.google.com/github/radmehr33/astrovision_hubble/blob/main/hubbleprocessing.ipynb\" target=\"_parent\"><img src=\"https://colab.research.google.com/assets/colab-badge.svg\" alt=\"Open In Colab\"/></a>"
      ]
    },
    {
      "cell_type": "code",
      "execution_count": 10,
      "metadata": {
        "id": "ucWx3ZxAi-pT"
      },
      "outputs": [],
      "source": [
        "import cv2\n",
        "import numpy as np\n",
        "from tabulate import tabulate\n"
      ]
    },
    {
      "cell_type": "code",
      "source": [
        "\n",
        "def analyze_stellar_spectra(image):\n",
        "    # Preprocess the image (if necessary)\n",
        "    # Apply image processing techniques to isolate the spectra\n",
        "\n",
        "    # Extract the spectral data\n",
        "    spectra = np.mean(image, axis=0)  # Assuming the spectra are represented in rows\n",
        "\n",
        "    return spectra\n",
        "\n",
        "image_path = 'hubble_ngc6325_potw2320a_0.jpg'\n",
        "image = cv2.imread(image_path)\n",
        "\n",
        "# Check if the image was loaded successfully\n",
        "if image is None:\n",
        "    print(f\"Error: Failed to load image from {image_path}\")\n",
        "    exit()\n"
      ],
      "metadata": {
        "id": "mIEBuFZ1jU1Q"
      },
      "execution_count": 11,
      "outputs": []
    },
    {
      "cell_type": "code",
      "source": [
        "# Analyze the number of space objects\n",
        "gray_image = cv2.cvtColor(image, cv2.COLOR_BGR2GRAY)\n",
        "_, binary_image = cv2.threshold(gray_image, 127, 255, cv2.THRESH_BINARY)\n",
        "contours, _ = cv2.findContours(binary_image, cv2.RETR_EXTERNAL, cv2.CHAIN_APPROX_SIMPLE)\n",
        "num_objects = len(contours)"
      ],
      "metadata": {
        "id": "eSUaIqWGjYtK"
      },
      "execution_count": 12,
      "outputs": []
    },
    {
      "cell_type": "code",
      "source": [
        "# Analyze the stellar spectra for each object\n",
        "print(f\"Number of space objects: {num_objects}\")\n",
        "for i, contour in enumerate(contours):\n",
        "    # Extract the region of interest for each object\n",
        "    x, y, w, h = cv2.boundingRect(contour)\n",
        "    object_image = image[y:y+h, x:x+w]\n"
      ],
      "metadata": {
        "id": "8U09CuNGjmc2"
      },
      "execution_count": null,
      "outputs": []
    },
    {
      "cell_type": "code",
      "source": [
        "# Analyze the stellar spectra for the object\n",
        "object_spectra = analyze_stellar_spectra(object_image)\n",
        "\n",
        "# Print the results as a table\n",
        "table_data = []\n",
        "for j, spectrum in enumerate(object_spectra):\n",
        "    table_data.append([f\"Channel {j+1}\", spectrum])\n",
        "\n",
        "print(f\"\\nObject {i+1} - Stellar Spectra:\")\n",
        "print(tabulate(table_data, headers=[\"Channel\", \"Intensity\"], tablefmt=\"grid\"))\n"
      ],
      "metadata": {
        "colab": {
          "base_uri": "https://localhost:8080/"
        },
        "id": "-Wu7En1HjpNy",
        "outputId": "6d585977-f953-4f4b-e423-4e5f5db25339"
      },
      "execution_count": 14,
      "outputs": [
        {
          "output_type": "stream",
          "name": "stdout",
          "text": [
            "\n",
            "Object 12411 - Stellar Spectra:\n",
            "+-----------+---------------------+\n",
            "| Channel   | Intensity           |\n",
            "+===========+=====================+\n",
            "| Channel 1 | [187.  194.  203.5] |\n",
            "+-----------+---------------------+\n",
            "| Channel 2 | [193.5 200.5 213.5] |\n",
            "+-----------+---------------------+\n"
          ]
        }
      ]
    }
  ]
}